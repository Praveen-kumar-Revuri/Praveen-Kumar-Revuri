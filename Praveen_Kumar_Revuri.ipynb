{
  "nbformat": 4,
  "nbformat_minor": 0,
  "metadata": {
    "colab": {
      "name": "Praveen Kumar Revuri",
      "provenance": [],
      "collapsed_sections": [],
      "authorship_tag": "ABX9TyO6VPpKZXVB9/4UbwF7ghr8",
      "include_colab_link": true
    },
    "kernelspec": {
      "name": "python3",
      "display_name": "Python 3"
    },
    "language_info": {
      "name": "python"
    }
  },
  "cells": [
    {
      "cell_type": "markdown",
      "metadata": {
        "id": "view-in-github",
        "colab_type": "text"
      },
      "source": [
        "<a href=\"https://colab.research.google.com/github/PraveenkumarRevuri146/Praveen-Kumar-Revuri/blob/main/Praveen_Kumar_Revuri.ipynb\" target=\"_parent\"><img src=\"https://colab.research.google.com/assets/colab-badge.svg\" alt=\"Open In Colab\"/></a>"
      ]
    },
    {
      "cell_type": "markdown",
      "metadata": {
        "id": "xcbzc9s7My2v"
      },
      "source": [
        ""
      ]
    },
    {
      "cell_type": "code",
      "metadata": {
        "id": "XdIjC1gHNxSW"
      },
      "source": [
        "import pandas as pd\n",
        "import numpy as np\n",
        "import matplotlib.pyplot as plt\n",
        "from sklearn import datasets\n",
        "from sklearn.cluster import KMeans"
      ],
      "execution_count": null,
      "outputs": []
    },
    {
      "cell_type": "code",
      "metadata": {
        "id": "Awj1EFgsGP6I"
      },
      "source": [
        "data_ =datasets.make_moons(100)"
      ],
      "execution_count": null,
      "outputs": []
    },
    {
      "cell_type": "code",
      "metadata": {
        "colab": {
          "base_uri": "https://localhost:8080/"
        },
        "id": "KdA5JrofGzRe",
        "outputId": "0a379357-af63-48f6-f35d-a8a5be58bc00"
      },
      "source": [
        "data_"
      ],
      "execution_count": null,
      "outputs": [
        {
          "output_type": "execute_result",
          "data": {
            "text/plain": [
              "(array([[ 1.22252093e+00, -4.74927912e-01],\n",
              "        [ 1.94905575e+00,  1.84891782e-01],\n",
              "        [ 4.62538290e-01,  8.86599306e-01],\n",
              "        [ 2.00000000e+00,  5.00000000e-01],\n",
              "        [ 4.27883340e-01, -3.20172255e-01],\n",
              "        [ 8.71318704e-01,  4.90717552e-01],\n",
              "        [ 2.05460725e-03,  4.35929780e-01],\n",
              "        [ 8.20998618e-03,  3.72122838e-01],\n",
              "        [-3.45365054e-01,  9.38468422e-01],\n",
              "        [ 5.09442530e-02,  1.84891782e-01],\n",
              "        [-6.23489802e-01,  7.81831482e-01],\n",
              "        [ 9.26916757e-01,  3.75267005e-01],\n",
              "        [ 9.67948422e-01, -4.99486216e-01],\n",
              "        [ 1.92691676e+00,  1.24732995e-01],\n",
              "        [-1.00000000e+00,  1.22464680e-16],\n",
              "        [ 8.40400105e-01, -4.87181783e-01],\n",
              "        [ 2.84527587e-01,  9.58667853e-01],\n",
              "        [ 9.90311321e-02,  6.61162609e-02],\n",
              "        [-9.81559157e-01,  1.91158629e-01],\n",
              "        [ 9.81559157e-01,  1.91158629e-01],\n",
              "        [ 8.38088105e-01,  5.45534901e-01],\n",
              "        [-1.59599895e-01,  9.87181783e-01],\n",
              "        [ 3.45365054e-01,  9.38468422e-01],\n",
              "        [ 4.81607432e-01, -3.55142763e-01],\n",
              "        [ 1.46253829e+00, -3.86599306e-01],\n",
              "        [ 1.28452759e+00, -4.58667853e-01],\n",
              "        [ 3.76510198e-01, -2.81831482e-01],\n",
              "        [ 1.62348980e+00, -2.81831482e-01],\n",
              "        [ 7.30832427e-02,  1.24732995e-01],\n",
              "        [-9.67294863e-01,  2.53654584e-01],\n",
              "        [ 1.34536505e+00, -4.38468422e-01],\n",
              "        [-2.84527587e-01,  9.58667853e-01],\n",
              "        [-6.72300890e-01,  7.40277997e-01],\n",
              "        [ 7.18349350e-01,  6.95682551e-01],\n",
              "        [ 3.27051370e-02,  2.46345416e-01],\n",
              "        [-3.20515776e-02,  9.99486216e-01],\n",
              "        [ 1.98586378e-01, -9.81105305e-02],\n",
              "        [ 1.76144596e+00, -1.48228395e-01],\n",
              "        [-9.26916757e-01,  3.75267005e-01],\n",
              "        [-7.18349350e-01,  6.95682551e-01],\n",
              "        [ 2.38554042e-01, -1.48228395e-01],\n",
              "        [ 9.03976974e-01, -4.95379113e-01],\n",
              "        [-9.91790014e-01,  1.27877162e-01],\n",
              "        [ 1.40478334e+00, -4.14412623e-01],\n",
              "        [ 2.22520934e-01,  9.74927912e-01],\n",
              "        [ 1.67230089e+00, -2.40277997e-01],\n",
              "        [-4.62538290e-01,  8.86599306e-01],\n",
              "        [ 8.01413622e-01,  5.98110530e-01],\n",
              "        [ 1.99794539e+00,  4.35929780e-01],\n",
              "        [ 3.20515776e-02,  9.99486216e-01],\n",
              "        [ 1.51839257e+00, -3.55142763e-01],\n",
              "        [ 9.49055747e-01,  3.15108218e-01],\n",
              "        [ 1.09602303e+00, -4.95379113e-01],\n",
              "        [ 1.71834935e+00, -1.95682551e-01],\n",
              "        [-9.00968868e-01,  4.33883739e-01],\n",
              "        [ 5.72116660e-01,  8.20172255e-01],\n",
              "        [ 0.00000000e+00,  5.00000000e-01],\n",
              "        [ 1.87131870e+00,  9.28244800e-03],\n",
              "        [ 1.80141362e+00, -9.81105305e-02],\n",
              "        [-9.49055747e-01,  3.15108218e-01],\n",
              "        [ 1.98155916e+00,  3.08841371e-01],\n",
              "        [ 1.90096887e+00,  6.61162609e-02],\n",
              "        [ 1.28681296e-01,  9.28244800e-03],\n",
              "        [ 1.84408430e-02,  3.08841371e-01],\n",
              "        [-9.97945393e-01,  6.40702200e-02],\n",
              "        [-7.61445958e-01,  6.48228395e-01],\n",
              "        [-8.38088105e-01,  5.45534901e-01],\n",
              "        [-2.22520934e-01,  9.74927912e-01],\n",
              "        [-9.60230259e-02,  9.95379113e-01],\n",
              "        [ 9.91790014e-01,  1.27877162e-01],\n",
              "        [ 5.18392568e-01,  8.55142763e-01],\n",
              "        [ 9.60230259e-02,  9.95379113e-01],\n",
              "        [-8.01413622e-01,  5.98110530e-01],\n",
              "        [ 1.96729486e+00,  2.46345416e-01],\n",
              "        [ 1.57211666e+00, -3.20172255e-01],\n",
              "        [ 9.97945393e-01,  6.40702200e-02],\n",
              "        [ 1.61911895e-01, -4.55349012e-02],\n",
              "        [ 5.37461710e-01, -3.86599306e-01],\n",
              "        [ 1.99179001e+00,  3.72122838e-01],\n",
              "        [ 7.77479066e-01, -4.74927912e-01],\n",
              "        [ 7.15472413e-01, -4.58667853e-01],\n",
              "        [ 6.23489802e-01,  7.81831482e-01],\n",
              "        [ 1.15959990e+00, -4.87181783e-01],\n",
              "        [ 2.81650650e-01, -1.95682551e-01],\n",
              "        [ 6.54634946e-01, -4.38468422e-01],\n",
              "        [-5.72116660e-01,  8.20172255e-01],\n",
              "        [ 9.67294863e-01,  2.53654584e-01],\n",
              "        [ 6.72300890e-01,  7.40277997e-01],\n",
              "        [ 4.04783343e-01,  9.14412623e-01],\n",
              "        [ 1.59599895e-01,  9.87181783e-01],\n",
              "        [ 5.95216657e-01, -4.14412623e-01],\n",
              "        [-5.18392568e-01,  8.55142763e-01],\n",
              "        [ 9.00968868e-01,  4.33883739e-01],\n",
              "        [ 1.03205158e+00, -4.99486216e-01],\n",
              "        [ 1.00000000e+00,  0.00000000e+00],\n",
              "        [ 7.61445958e-01,  6.48228395e-01],\n",
              "        [-8.71318704e-01,  4.90717552e-01],\n",
              "        [ 3.27699110e-01, -2.40277997e-01],\n",
              "        [ 1.83808810e+00, -4.55349012e-02],\n",
              "        [-4.04783343e-01,  9.14412623e-01]]),\n",
              " array([1, 1, 0, 1, 1, 0, 1, 1, 0, 1, 0, 0, 1, 1, 0, 1, 0, 1, 0, 0, 0, 0,\n",
              "        0, 1, 1, 1, 1, 1, 1, 0, 1, 0, 0, 0, 1, 0, 1, 1, 0, 0, 1, 1, 0, 1,\n",
              "        0, 1, 0, 0, 1, 0, 1, 0, 1, 1, 0, 0, 1, 1, 1, 0, 1, 1, 1, 1, 0, 0,\n",
              "        0, 0, 0, 0, 0, 0, 0, 1, 1, 0, 1, 1, 1, 1, 1, 0, 1, 1, 1, 0, 0, 0,\n",
              "        0, 0, 1, 0, 0, 1, 0, 0, 0, 1, 1, 0]))"
            ]
          },
          "metadata": {
            "tags": []
          },
          "execution_count": 24
        }
      ]
    },
    {
      "cell_type": "code",
      "metadata": {
        "id": "MjSJ2b3OG8C-"
      },
      "source": [
        "inputData =pd.DataFrame(data=data_[0])"
      ],
      "execution_count": null,
      "outputs": []
    },
    {
      "cell_type": "code",
      "metadata": {
        "colab": {
          "base_uri": "https://localhost:8080/",
          "height": 204
        },
        "id": "buRQXq8HHn5B",
        "outputId": "3bc2dc5a-78b4-4ffe-b857-a4e4f8014071"
      },
      "source": [
        " inputData.head()"
      ],
      "execution_count": null,
      "outputs": [
        {
          "output_type": "execute_result",
          "data": {
            "text/html": [
              "<div>\n",
              "<style scoped>\n",
              "    .dataframe tbody tr th:only-of-type {\n",
              "        vertical-align: middle;\n",
              "    }\n",
              "\n",
              "    .dataframe tbody tr th {\n",
              "        vertical-align: top;\n",
              "    }\n",
              "\n",
              "    .dataframe thead th {\n",
              "        text-align: right;\n",
              "    }\n",
              "</style>\n",
              "<table border=\"1\" class=\"dataframe\">\n",
              "  <thead>\n",
              "    <tr style=\"text-align: right;\">\n",
              "      <th></th>\n",
              "      <th>0</th>\n",
              "      <th>1</th>\n",
              "    </tr>\n",
              "  </thead>\n",
              "  <tbody>\n",
              "    <tr>\n",
              "      <th>0</th>\n",
              "      <td>1.222521</td>\n",
              "      <td>-0.474928</td>\n",
              "    </tr>\n",
              "    <tr>\n",
              "      <th>1</th>\n",
              "      <td>1.949056</td>\n",
              "      <td>0.184892</td>\n",
              "    </tr>\n",
              "    <tr>\n",
              "      <th>2</th>\n",
              "      <td>0.462538</td>\n",
              "      <td>0.886599</td>\n",
              "    </tr>\n",
              "    <tr>\n",
              "      <th>3</th>\n",
              "      <td>2.000000</td>\n",
              "      <td>0.500000</td>\n",
              "    </tr>\n",
              "    <tr>\n",
              "      <th>4</th>\n",
              "      <td>0.427883</td>\n",
              "      <td>-0.320172</td>\n",
              "    </tr>\n",
              "  </tbody>\n",
              "</table>\n",
              "</div>"
            ],
            "text/plain": [
              "          0         1\n",
              "0  1.222521 -0.474928\n",
              "1  1.949056  0.184892\n",
              "2  0.462538  0.886599\n",
              "3  2.000000  0.500000\n",
              "4  0.427883 -0.320172"
            ]
          },
          "metadata": {
            "tags": []
          },
          "execution_count": 26
        }
      ]
    },
    {
      "cell_type": "code",
      "metadata": {
        "colab": {
          "base_uri": "https://localhost:8080/",
          "height": 204
        },
        "id": "4ULdp0noH2_B",
        "outputId": "e4db05c7-bbf4-4b40-cab1-cd6c34359df5"
      },
      "source": [
        "outputData =pd.DataFrame(data=data_[1])\n",
        "outputData.head()"
      ],
      "execution_count": null,
      "outputs": [
        {
          "output_type": "execute_result",
          "data": {
            "text/html": [
              "<div>\n",
              "<style scoped>\n",
              "    .dataframe tbody tr th:only-of-type {\n",
              "        vertical-align: middle;\n",
              "    }\n",
              "\n",
              "    .dataframe tbody tr th {\n",
              "        vertical-align: top;\n",
              "    }\n",
              "\n",
              "    .dataframe thead th {\n",
              "        text-align: right;\n",
              "    }\n",
              "</style>\n",
              "<table border=\"1\" class=\"dataframe\">\n",
              "  <thead>\n",
              "    <tr style=\"text-align: right;\">\n",
              "      <th></th>\n",
              "      <th>0</th>\n",
              "    </tr>\n",
              "  </thead>\n",
              "  <tbody>\n",
              "    <tr>\n",
              "      <th>0</th>\n",
              "      <td>1</td>\n",
              "    </tr>\n",
              "    <tr>\n",
              "      <th>1</th>\n",
              "      <td>1</td>\n",
              "    </tr>\n",
              "    <tr>\n",
              "      <th>2</th>\n",
              "      <td>0</td>\n",
              "    </tr>\n",
              "    <tr>\n",
              "      <th>3</th>\n",
              "      <td>1</td>\n",
              "    </tr>\n",
              "    <tr>\n",
              "      <th>4</th>\n",
              "      <td>1</td>\n",
              "    </tr>\n",
              "  </tbody>\n",
              "</table>\n",
              "</div>"
            ],
            "text/plain": [
              "   0\n",
              "0  1\n",
              "1  1\n",
              "2  0\n",
              "3  1\n",
              "4  1"
            ]
          },
          "metadata": {
            "tags": []
          },
          "execution_count": 27
        }
      ]
    },
    {
      "cell_type": "code",
      "metadata": {
        "colab": {
          "base_uri": "https://localhost:8080/",
          "height": 282
        },
        "id": "UQZtJcFNJjYz",
        "outputId": "5ef6803e-8303-4d62-dac3-bd5d6c981c05"
      },
      "source": [
        "plt.scatter(inputData[0],inputData[1])"
      ],
      "execution_count": null,
      "outputs": [
        {
          "output_type": "execute_result",
          "data": {
            "text/plain": [
              "<matplotlib.collections.PathCollection at 0x7ff0b8b4d290>"
            ]
          },
          "metadata": {
            "tags": []
          },
          "execution_count": 28
        },
        {
          "output_type": "display_data",
          "data": {
            "image/png": "[encoded data removed]",
            "text/plain": [
              "<Figure size 432x288 with 1 Axes>"
            ]
          },
          "metadata": {
            "tags": [],
            "needs_background": "light"
          }
        }
      ]
    },
    {
      "cell_type": "code",
      "metadata": {
        "colab": {
          "base_uri": "https://localhost:8080/",
          "height": 282
        },
        "id": "N7bvErQFI0Nc",
        "outputId": "b0b2ebb5-6d89-4ec5-f156-2d393c06f171"
      },
      "source": [
        "plt.scatter(inputData[0],inputData[1],c=outputData)"
      ],
      "execution_count": null,
      "outputs": [
        {
          "output_type": "execute_result",
          "data": {
            "text/plain": [
              "<matplotlib.collections.PathCollection at 0x7ff0b7a50350>"
            ]
          },
          "metadata": {
            "tags": []
          },
          "execution_count": 29
        },
        {
          "output_type": "display_data",
          "data": {
            "image/png": "[encoded data removed]",
            "text/plain": [
              "<Figure size 432x288 with 1 Axes>"
            ]
          },
          "metadata": {
            "tags": [],
            "needs_background": "light"
          }
        }
      ]
    },
    {
      "cell_type": "code",
      "metadata": {
        "id": "-WnFIiMxOU3N",
        "colab": {
          "base_uri": "https://localhost:8080/"
        },
        "outputId": "f4e13312-2cd9-4114-ec43-6cbe297844d8"
      },
      "source": [
        "from sklearn.cluster import KMeans\n",
        "model=KMeans (n_clusters=5)\n",
        "model.fit(inputData)"
      ],
      "execution_count": null,
      "outputs": [
        {
          "output_type": "execute_result",
          "data": {
            "text/plain": [
              "KMeans(algorithm='auto', copy_x=True, init='k-means++', max_iter=300,\n",
              "       n_clusters=5, n_init=10, n_jobs=None, precompute_distances='auto',\n",
              "       random_state=None, tol=0.0001, verbose=0)"
            ]
          },
          "metadata": {
            "tags": []
          },
          "execution_count": 44
        }
      ]
    },
    {
      "cell_type": "code",
      "metadata": {
        "colab": {
          "base_uri": "https://localhost:8080/"
        },
        "id": "REdYn1L4PTK8",
        "outputId": "bb78f95d-f20b-416b-c56a-b8cd9ecbb988"
      },
      "source": [
        "model.labels_"
      ],
      "execution_count": null,
      "outputs": [
        {
          "output_type": "execute_result",
          "data": {
            "text/plain": [
              "array([3, 1, 0, 1, 4, 0, 4, 4, 2, 4, 2, 0, 3, 1, 2, 3, 0, 4, 2, 3, 0, 0,\n",
              "       0, 3, 3, 3, 4, 1, 4, 2, 3, 2, 2, 0, 4, 0, 4, 1, 2, 2, 4, 3, 2, 3,\n",
              "       0, 1, 2, 0, 1, 0, 1, 3, 3, 1, 2, 0, 4, 1, 1, 2, 1, 1, 4, 4, 2, 2,\n",
              "       2, 2, 0, 3, 0, 0, 2, 1, 1, 3, 4, 3, 1, 3, 3, 0, 3, 4, 3, 2, 3, 0,\n",
              "       0, 0, 3, 2, 0, 3, 3, 0, 2, 4, 1, 2], dtype=int32)"
            ]
          },
          "metadata": {
            "tags": []
          },
          "execution_count": 45
        }
      ]
    },
    {
      "cell_type": "code",
      "metadata": {
        "id": "DpItLVyDPkbP"
      },
      "source": [
        "from sklearn import metrics"
      ],
      "execution_count": null,
      "outputs": []
    },
    {
      "cell_type": "code",
      "metadata": {
        "colab": {
          "base_uri": "https://localhost:8080/"
        },
        "id": "ZX3tWQWYP1yT",
        "outputId": "7cff67c5-cd06-4389-8ac0-a536eeb37b4f"
      },
      "source": [
        "metrics.silhouette_score(inputData, model.labels_)"
      ],
      "execution_count": null,
      "outputs": [
        {
          "output_type": "execute_result",
          "data": {
            "text/plain": [
              "0.473852815276961"
            ]
          },
          "metadata": {
            "tags": []
          },
          "execution_count": 50
        }
      ]
    },
    {
      "cell_type": "code",
      "metadata": {
        "id": "2Svi5jIQRGoF",
        "colab": {
          "base_uri": "https://localhost:8080/",
          "height": 282
        },
        "outputId": "8bbaa52c-cde5-46d7-d726-05b36088dfcd"
      },
      "source": [
        "plt.scatter(inputData[0], inputData [1],c=model.labels_)"
      ],
      "execution_count": null,
      "outputs": [
        {
          "output_type": "execute_result",
          "data": {
            "text/plain": [
              "<matplotlib.collections.PathCollection at 0x7ff0b78f9550>"
            ]
          },
          "metadata": {
            "tags": []
          },
          "execution_count": 52
        },
        {
          "output_type": "display_data",
          "data": {
            "image/png": "[encoded data removed]",
            "text/plain": [
              "<Figure size 432x288 with 1 Axes>"
            ]
          },
          "metadata": {
            "tags": [],
            "needs_background": "light"
          }
        }
      ]
    },
    {
      "cell_type": "code",
      "metadata": {
        "id": "z9s-8J_jSnHA"
      },
      "source": [
        "cluster_range = range(1, 20)\n",
        "error_list = []\n",
        " \n",
        "for i in cluster_range:\n",
        "    model = KMeans(n_clusters=i)\n",
        "    model.fit(inputData)\n",
        "    res = model.inertia_\n",
        "    error_list.append(res)"
      ],
      "execution_count": null,
      "outputs": []
    },
    {
      "cell_type": "code",
      "metadata": {
        "colab": {
          "base_uri": "https://localhost:8080/",
          "height": 295
        },
        "id": "K5M18fKpS43z",
        "outputId": "04182bf1-ea6d-4bc0-9730-716c1f8eab97"
      },
      "source": [
        "import matplotlib.pyplot as plt\n",
        " \n",
        "plt.plot(cluster_range, error_list, marker = \"o\", color = \"g\", markersize = 10)\n",
        "plt.xlabel(\"Cluster Range\")\n",
        "plt.ylabel(\"IntraCluster Sum\")\n",
        "plt.title(\"KMeans\")\n",
        "plt.show()"
      ],
      "execution_count": null,
      "outputs": [
        {
          "output_type": "display_data",
          "data": {
            "image/png": "[encoded data removed]",
            "text/plain": [
              "<Figure size 432x288 with 1 Axes>"
            ]
          },
          "metadata": {
            "tags": [],
            "needs_background": "light"
          }
        }
      ]
    }
  ]
}